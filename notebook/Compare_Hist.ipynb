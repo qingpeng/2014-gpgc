{
 "metadata": {
  "name": "Compare_Hist"
 },
 "nbformat": 3,
 "nbformat_minor": 0,
 "worksheets": [
  {
   "cells": [
    {
     "cell_type": "markdown",
     "metadata": {},
     "source": [
      "Reads Median Coverage of Iowa Corn in Prairie and Prairie in Corn\n",
      "======================\n",
      "\n",
      "More than 80% of Iowa Prairie Reads have median coverage>1 in Corn Reads.\n",
      "The same for the other direction. (Corn in Prairie)\n",
      "\n",
      "This is higher than previous estimation from adina's calculation. (~60%)\n",
      "\n",
      "Possible Reason:\n",
      "---------\n",
      "- Different hash table size (4 times bigger than old one) 200e9*4 vs 48e9*4. Bigger hash tables will result in lower over-counting, so coverage should be lower. -- can not explain the difference\n",
      "- Different k-size (22 vs 20 in old)  -- Using longer k-mer will lower frequency generally. ( should not matter much in this case) -- Still can not explain the difference.\n",
      "- Diginormalized data set was used in old calculation. (My guess...) \n",
      "\n",
      "\n",
      "Hash table sizes:\n",
      "---------\n",
      "- \"Old\" - Adina's - 179G hash tables, maximum count 255        k=20 (*) -x 48e9 -N 4  * guessed from possible adina's pipeline\n",
      "- \"New\"           - 746G hash tables, maximum count 65535  hash table size: 4* 200e9  k=22\n",
      "\n",
      "\n",
      "New Pipeline: (\n",
      "---------\n",
      "- python load-into-counting.py --ksize 22 --n_hashes 4 --hashsize 200e9 all_iowa_prairie.ht /mnt/researc\n",
      "h/adina/gpgc-trimmed-reads/iowa-corn/iowa-corn-all-reads-minus-649-30min-70N.fasta\n",
      "- python count-median-multifile.py all_iowa_prairie.ht iowa_overlap.out /mnt/research/adina/gpgc-trimmed-reads/iowa-prairie\n",
      "/*.gz\n",
      "\n",
      "Old Pipeline:\n",
      "----------\n",
      "- python calc-median-distribution-multiple-files.py iowa-corn2.ht prairie-in-corn.hist /mnt/scratch/howead/iowa-prairie-all/trimmed-r\n",
      "eads/*gz\n",
      "\n",
      "\n",
      "    \n"
     ]
    },
    {
     "cell_type": "code",
     "collapsed": false,
     "input": [
      "import matplotlib.pyplot as plt\n"
     ],
     "language": "python",
     "metadata": {},
     "outputs": [],
     "prompt_number": 36
    },
    {
     "cell_type": "code",
     "collapsed": false,
     "input": [
      "file_new_hist = open(\"../data/iowa_overlap.out.hist\",'r')\n",
      "file_old_hist = open(\"../data/prairie-in-corn.hist\",'r')\n",
      "file_new_hist_2 = open(\"../data/iowa_overlap_2.out.hist\",'r')"
     ],
     "language": "python",
     "metadata": {},
     "outputs": [],
     "prompt_number": 49
    },
    {
     "cell_type": "code",
     "collapsed": false,
     "input": [
      "new_hist = {}\n",
      "for line in file_new_hist:\n",
      "    fields = line.split()\n",
      "    new_hist[int(fields[0])] = int(fields[1])"
     ],
     "language": "python",
     "metadata": {},
     "outputs": [],
     "prompt_number": 50
    },
    {
     "cell_type": "code",
     "collapsed": false,
     "input": [
      "old_hist = {}\n",
      "for line in file_old_hist:\n",
      "    fields = line.split()\n",
      "    old_hist[int(fields[0])] = int(fields[1])"
     ],
     "language": "python",
     "metadata": {},
     "outputs": [],
     "prompt_number": 51
    },
    {
     "cell_type": "code",
     "collapsed": false,
     "input": [
      "new_hist_2 = {}\n",
      "for line in file_new_hist_2:\n",
      "    #print line\n",
      "    fields = line.split()\n",
      "    new_hist_2[int(fields[0])] = int(fields[1])\n",
      "#print new_hist_2"
     ],
     "language": "python",
     "metadata": {},
     "outputs": [],
     "prompt_number": 52
    },
    {
     "cell_type": "code",
     "collapsed": false,
     "input": [
      "sum_new = 0\n",
      "sum_old = 0\n",
      "sum_new_2 = 0\n",
      "#cumulative\n",
      "cum_old_hist = {}\n",
      "cum_new_hist = {}\n",
      "cum_new_hist_2 = {}\n",
      "old_sum = sum(old_hist.values())\n",
      "new_sum = sum(new_hist.values())\n",
      "new_sum_2 = sum(new_hist_2.values())\n",
      "\n",
      "print old_sum,new_sum,new_sum_2\n",
      "\n",
      "for key in new_hist.keys():\n",
      "    sum_new = sum_new + new_hist[key]\n",
      "    cum_new_hist[key] = float(sum_new)/new_sum\n",
      "for key in old_hist.keys():\n",
      "    sum_old = sum_old + old_hist[key]\n",
      "    cum_old_hist[key] = float(sum_old)/old_sum\n",
      "for key in new_hist_2.keys():\n",
      "    sum_new_2 = sum_new_2 + new_hist_2[key]\n",
      "    cum_new_hist_2[key] = float(sum_new_2)/new_sum_2\n",
      "    "
     ],
     "language": "python",
     "metadata": {},
     "outputs": [
      {
       "output_type": "stream",
       "stream": "stdout",
       "text": [
        "3303375485 3252369195 520346510\n"
       ]
      }
     ],
     "prompt_number": 53
    },
    {
     "cell_type": "code",
     "collapsed": false,
     "input": [
      "plt.plot(cum_new_hist.keys()[1:20],cum_new_hist.values()[1:20],'r.-',label='New Prairie in Corn')\n",
      "plt.plot(cum_old_hist.keys()[1:20],cum_old_hist.values()[1:20],'b.-',label='Old Prairie in Corn')\n",
      "plt.plot(cum_new_hist_2.keys()[1:20],cum_new_hist_2.values()[1:20],'g.-',label='New Corn in Prairie')\n",
      "\n",
      "plt.xlabel('Read Median Coverage')\n",
      "plt.legend(loc=4)\n",
      "plt.ylabel('% of Prairie Reads in Corn HT')\n",
      "plt.ylim(0,1)\n",
      "plt.xlim(0,25)\n",
      "plt.title('Cumulative Hist of Prairie Medians in Corn and Corn Medians in Prairie')"
     ],
     "language": "python",
     "metadata": {},
     "outputs": [
      {
       "output_type": "pyout",
       "prompt_number": 59,
       "text": [
        "<matplotlib.text.Text at 0x10e2f4310>"
       ]
      },
      {
       "output_type": "display_data",
       "png": "[encoded data removed]",
       "text": [
        "<matplotlib.figure.Figure at 0x10da1d710>"
       ]
      }
     ],
     "prompt_number": 59
    },
    {
     "cell_type": "code",
     "collapsed": false,
     "input": [],
     "language": "python",
     "metadata": {},
     "outputs": []
    }
   ],
   "metadata": {}
  }
 ]
}